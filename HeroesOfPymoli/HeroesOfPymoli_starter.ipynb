{
 "cells": [
  {
   "cell_type": "markdown",
   "metadata": {},
   "source": [
    "### Note\n",
    "* Instructions have been included for each segment. You do not have to follow them exactly, but they are included to help you think through the steps."
   ]
  },
  {
   "cell_type": "code",
   "execution_count": null,
   "metadata": {},
   "outputs": [],
   "source": [
    "# Dependencies and Setup\n",
    "import pandas as pd\n",
    "\n",
    "# File to Load (Remember to Change These)\n",
    "file_to_load = \"Resources/purchase_data.csv\"\n",
    "\n",
    "# Read Purchasing File and store into Pandas data frame\n",
    "purchase_data = pd.read_csv(file_to_load)\n",
    "\n",
    "# Review data\n",
    "purchase_data.head()"
   ]
  },
  {
   "cell_type": "markdown",
   "metadata": {},
   "source": [
    "## Player Count"
   ]
  },
  {
   "cell_type": "markdown",
   "metadata": {},
   "source": [
    "* Display the total number of players\n"
   ]
  },
  {
   "cell_type": "code",
   "execution_count": null,
   "metadata": {},
   "outputs": [],
   "source": [
    "# Review data types to help determine functions to be used\n",
    "purchase_data.dtypes"
   ]
  },
  {
   "cell_type": "code",
   "execution_count": null,
   "metadata": {
    "scrolled": true
   },
   "outputs": [],
   "source": [
    "# Count unique values in SN column to determine total players and create new df\n",
    "total_players = len(pd.unique(purchase_data[\"SN\"]))\n",
    "data = {\"Total Players\":[total_players]}\n",
    "players_df = pd.DataFrame(data)\n",
    "players_df"
   ]
  },
  {
   "cell_type": "markdown",
   "metadata": {},
   "source": [
    "## Purchasing Analysis (Total)"
   ]
  },
  {
   "cell_type": "markdown",
   "metadata": {},
   "source": [
    "* Run basic calculations to obtain number of unique items, average price, etc.\n",
    "\n",
    "\n",
    "* Create a summary data frame to hold the results\n",
    "\n",
    "\n",
    "* Optional: give the displayed data cleaner formatting\n",
    "\n",
    "\n",
    "* Display the summary data frame\n"
   ]
  },
  {
   "cell_type": "code",
   "execution_count": null,
   "metadata": {},
   "outputs": [],
   "source": [
    "# Dataframe calculations\n",
    "unique_items = len(pd.unique(purchase_data[\"Item ID\"]))\n",
    "\n",
    "average_price = round(purchase_data[\"Price\"].mean(),2)\n",
    "\n",
    "total_purchases = len(pd.unique(purchase_data[\"Purchase ID\"]))\n",
    "\n",
    "total_revenue = purchase_data[\"Price\"].sum()"
   ]
  },
  {
   "cell_type": "code",
   "execution_count": null,
   "metadata": {},
   "outputs": [],
   "source": [
    "# Create dataframe for purchasing analysis of above calculations and apply special formatting\n",
    "purchasing_data = {\"Unique Items\":[unique_items],\n",
    "                  \"Average Price\":[average_price],\n",
    "                  \"Number of Purchases\":[total_purchases],\n",
    "                  \"Total Revenue\":[total_revenue]}\n",
    "\n",
    "purchasing_df = pd.DataFrame(purchasing_data)\n",
    "\n",
    "purchasing_df[\"Average Price\"] = purchasing_df[\"Average Price\"].map(\"${:.2f}\".format)\n",
    "purchasing_df[\"Total Revenue\"] = purchasing_df[\"Total Revenue\"].map(\"${:,.2f}\".format)\n",
    "\n",
    "purchasing_df"
   ]
  },
  {
   "cell_type": "markdown",
   "metadata": {},
   "source": [
    "## Gender Demographics"
   ]
  },
  {
   "cell_type": "markdown",
   "metadata": {},
   "source": [
    "* Percentage and Count of Male Players\n",
    "\n",
    "\n",
    "* Percentage and Count of Female Players\n",
    "\n",
    "\n",
    "* Percentage and Count of Other / Non-Disclosed\n",
    "\n",
    "\n"
   ]
  },
  {
   "cell_type": "code",
   "execution_count": null,
   "metadata": {},
   "outputs": [],
   "source": [
    "# Count & percentage of male players\n",
    "male_players = purchase_data.loc[purchase_data[\"Gender\"] == \"Male\"]\n",
    "male_count = len(male_players[\"SN\"].unique())\n",
    "male_percent = \"{:.2f}%\".format(male_count/total_players * 100)\n",
    "\n",
    "# Count & Percentage of Female Players\n",
    "female_players = purchase_data.loc[purchase_data[\"Gender\"] == \"Female\"]\n",
    "female_count = len(female_players[\"SN\"].unique())\n",
    "female_percent = \"{:.2f}%\".format(female_count/total_players * 100)\n",
    "\n",
    "# Count & Percentage of Other/Non-Disclosed\n",
    "other_players = purchase_data.loc[purchase_data[\"Gender\"] == \"Other / Non-Disclosed\"]\n",
    "other_count = len(other_players[\"SN\"].unique())\n",
    "other_percent = \"{:.2f}%\".format(other_count/total_players * 100)"
   ]
  },
  {
   "cell_type": "code",
   "execution_count": null,
   "metadata": {},
   "outputs": [],
   "source": [
    "# Create summary gender Dataframe\n",
    "gender_df = pd.DataFrame([{\"Gender\":\"Male\", \"Total Count\": male_count, \"Percentage of Players\": male_percent},\n",
    "                         {\"Gender\":\"Female\", \"Total Count\": female_count, \"Percentage of Players\": female_percent},\n",
    "                         {\"Gender\": \"Other / Non-Disclosed\", \"Total Count\": other_count, \"Percentage of Players\": other_percent}])\n",
    "\n",
    "gender_df = gender_df.set_index(\"Gender\")\n",
    "gender_df.index.name = None\n",
    "gender_df"
   ]
  },
  {
   "cell_type": "markdown",
   "metadata": {},
   "source": [
    "\n",
    "## Purchasing Analysis (Gender)"
   ]
  },
  {
   "cell_type": "markdown",
   "metadata": {},
   "source": [
    "* Run basic calculations to obtain purchase count, avg. purchase price, avg. purchase total per person etc. by gender\n",
    "\n",
    "\n",
    "\n",
    "\n",
    "* Create a summary data frame to hold the results\n",
    "\n",
    "\n",
    "* Optional: give the displayed data cleaner formatting\n",
    "\n",
    "\n",
    "* Display the summary data frame"
   ]
  },
  {
   "cell_type": "code",
   "execution_count": null,
   "metadata": {},
   "outputs": [],
   "source": [
    "# Count, average, total and average total of male players\n",
    "male_purchases = purchase_data.loc[purchase_data[\"Gender\"] == \"Male\",:]\n",
    "male_purchase_count = len(male_purchases)\n",
    "avg_male_price =(purchase_data.loc[purchase_data[\"Gender\"] == \"Male\", [\"Price\"]].mean())\n",
    "total_male_price = purchase_data.loc[purchase_data[\"Gender\"] == \"Male\", [\"Price\"]].sum()\n",
    "avg_purchase_total_male = total_male_price/male_count\n",
    "\n",
    "# Count, average, total and average total of female players\n",
    "female_purchases = purchase_data.loc[purchase_data[\"Gender\"] == \"Female\", :]\n",
    "female_purchase_count = len(female_purchases)\n",
    "avg_female_price = purchase_data.loc[purchase_data[\"Gender\"] == \"Female\", [\"Price\"]].mean()\n",
    "total_female_price = purchase_data.loc[purchase_data[\"Gender\"] == \"Female\", [\"Price\"]].sum()\n",
    "avg_purchase_total_female = total_female_price/female_count\n",
    "\n",
    "# Count, average, total and average total of other/non-disclosed players\n",
    "other_purchases = purchase_data.loc[purchase_data[\"Gender\"] == \"Other / Non-Disclosed\", :]\n",
    "other_purchase_count = len(other_purchases)\n",
    "avg_other_price = purchase_data.loc[purchase_data[\"Gender\"] == \"Other / Non-Disclosed\", [\"Price\"]].mean()\n",
    "total_other_price = purchase_data.loc[purchase_data[\"Gender\"] == \"Other / Non-Disclosed\", [\"Price\"]].sum()\n",
    "avg_purchase_total_other = total_other_price/other_count"
   ]
  },
  {
   "cell_type": "code",
   "execution_count": null,
   "metadata": {},
   "outputs": [],
   "source": [
    "# Create dataframe with formatting\n",
    "gender_purchasing_df = pd.DataFrame([{\"Gender\":\"Male\", \"Purchase Count\": male_purchase_count, \"Average Purchase Price\": \"${:.2f}\".format(avg_male_price[0]), \"Total Purchase Value\": \"${:,.2f}\".format(total_male_price[0]), \"Avg Total Purchase per Person\": \"${:.2f}\".format(avg_purchase_total_male[0])},\n",
    "                                    {\"Gender\": \"Female\", \"Purchase Count\": female_purchase_count, \"Average Purchase Price\": \"${:.2f}\".format(avg_female_price[0]), \"Total Purchase Value\": \"${:.2f}\".format(total_female_price[0]), \"Avg Total Purchase per Person\": \"${:.2f}\".format(avg_purchase_total_female[0])},\n",
    "                                    {\"Gender\": \"Other / Non-Disclosed\", \"Purchase Count\": other_purchase_count, \"Average Purchase Price\": \"${:.2f}\".format(avg_other_price[0]), \"Total Purchase Value\": \"${:.2f}\".format(total_other_price[0]), \"Avg Total Purchase per Person\":\"${:.2f}\".format(avg_purchase_total_other[0])}])\n",
    "\n",
    "gender_purchasing_df = gender_purchasing_df.set_index(\"Gender\")\n",
    "gender_purchasing_df.index.name = None\n",
    "gender_purchasing_df"
   ]
  },
  {
   "cell_type": "markdown",
   "metadata": {},
   "source": [
    "## Age Demographics"
   ]
  },
  {
   "cell_type": "markdown",
   "metadata": {},
   "source": [
    "* Establish bins for ages\n",
    "\n",
    "\n",
    "* Categorize the existing players using the age bins. Hint: use pd.cut()\n",
    "\n",
    "\n",
    "* Calculate the numbers and percentages by age group\n",
    "\n",
    "\n",
    "* Create a summary data frame to hold the results\n",
    "\n",
    "\n",
    "* Optional: round the percentage column to two decimal points\n",
    "\n",
    "\n",
    "* Display Age Demographics Table\n"
   ]
  },
  {
   "cell_type": "code",
   "execution_count": null,
   "metadata": {},
   "outputs": [],
   "source": [
    "# Print max age\n",
    "print(purchase_data[\"Age\"].max())"
   ]
  },
  {
   "cell_type": "code",
   "execution_count": null,
   "metadata": {},
   "outputs": [],
   "source": [
    "# Print min age\n",
    "print(purchase_data[\"Age\"].min())"
   ]
  },
  {
   "cell_type": "code",
   "execution_count": null,
   "metadata": {},
   "outputs": [],
   "source": [
    "# Establish bins for ages\n",
    "age_bins = [0, 4, 9, 14, 19, 24, 29, 34, 39, 46]"
   ]
  },
  {
   "cell_type": "code",
   "execution_count": null,
   "metadata": {},
   "outputs": [],
   "source": [
    "# Establish labels for bins\n",
    "age_labels = [\"<5\", \"5-9\", \"10-14\", \"15-19\", \"20-24\", \"25-29\", \"30-34\", \"35-39\", \"40+\"]"
   ]
  },
  {
   "cell_type": "code",
   "execution_count": null,
   "metadata": {},
   "outputs": [],
   "source": [
    "# Add new column to original purchase data\n",
    "purchase_data[\"Age Groups\"] = pd.cut(purchase_data[\"Age\"], bins=age_bins, labels=age_labels)"
   ]
  },
  {
   "cell_type": "code",
   "execution_count": null,
   "metadata": {},
   "outputs": [],
   "source": [
    "# Create groupby for age groups\n",
    "age_groups = purchase_data.groupby(\"Age Groups\")"
   ]
  },
  {
   "cell_type": "code",
   "execution_count": null,
   "metadata": {},
   "outputs": [],
   "source": [
    "# Find total players by age group\n",
    "age_total = age_groups[\"SN\"].nunique()\n",
    "\n",
    "# Calculate percentages by age group\n",
    "age_percentage = round(age_total/total_players * 100,2)"
   ]
  },
  {
   "cell_type": "code",
   "execution_count": null,
   "metadata": {},
   "outputs": [],
   "source": [
    "# Create dataframe and formatting\n",
    "age_df = pd.DataFrame({\"Total Count\": age_total,\"Percentage of Players\": age_percentage})\n",
    "\n",
    "age_df[\"Percentage of Players\"] = age_df[\"Percentage of Players\"].map(\"{:.2f}%\".format)\n",
    "\n",
    "age_df.index.name = None\n",
    "age_df"
   ]
  },
  {
   "cell_type": "markdown",
   "metadata": {},
   "source": [
    "## Purchasing Analysis (Age)"
   ]
  },
  {
   "cell_type": "markdown",
   "metadata": {},
   "source": [
    "* Bin the purchase_data data frame by age\n",
    "\n",
    "\n",
    "* Run basic calculations to obtain purchase count, avg. purchase price, avg. purchase total per person etc. in the table below\n",
    "\n",
    "\n",
    "* Create a summary data frame to hold the results\n",
    "\n",
    "\n",
    "* Optional: give the displayed data cleaner formatting\n",
    "\n",
    "\n",
    "* Display the summary data frame"
   ]
  },
  {
   "cell_type": "code",
   "execution_count": null,
   "metadata": {},
   "outputs": [],
   "source": [
    "# Establish bins and labels for age group \n",
    "age_bins = [0, 4, 9, 14, 19, 24, 29, 34, 39, 46]\n",
    "age_labels = [\"<5\", \"5-9\", \"10-14\", \"15-19\", \"20-24\", \"25-29\", \"30-34\", \"35-39\", \"40+\"]"
   ]
  },
  {
   "cell_type": "code",
   "execution_count": null,
   "metadata": {},
   "outputs": [],
   "source": [
    "# Create new column and review new data\n",
    "purchase_data[\"Age Group\"] = pd.cut(purchase_data[\"Age\"], bins=age_bins, labels=age_labels)"
   ]
  },
  {
   "cell_type": "code",
   "execution_count": null,
   "metadata": {},
   "outputs": [],
   "source": [
    "# Calculations\n",
    "ages_purchase_count = age_groups[\"SN\"].count()\n",
    "\n",
    "ages_avg_purchase_price = round(age_groups[\"Price\"].mean(),2)  \n",
    "\n",
    "ages_total_purchase_value = round(age_groups[\"Price\"].sum(),2)\n",
    "\n",
    "ages_avg_purchase_per_person = round(ages_total_purchase_value / age_total,2)"
   ]
  },
  {
   "cell_type": "code",
   "execution_count": null,
   "metadata": {},
   "outputs": [],
   "source": [
    "# Create dataframe and formatting\n",
    "age_purchasing_df = pd.DataFrame({\"Purchase Count\": ages_purchase_count,\n",
    "                                 \"Average Purchase Price\": ages_avg_purchase_price,\n",
    "                                 \"Total Purchase Value\": ages_total_purchase_value,\n",
    "                                 \"Avg Total Purchase per Person\": ages_avg_purchase_per_person})\n",
    "\n",
    "age_purchasing_df[\"Average Purchase Price\"]=age_purchasing_df[\"Average Purchase Price\"].fillna(0)\n",
    "age_purchasing_df[\"Avg Total Purchase per Person\"]=age_purchasing_df[\"Avg Total Purchase per Person\"].fillna(0)\n",
    "\n",
    "age_purchasing_df[\"Average Purchase Price\"]=age_purchasing_df[\"Average Purchase Price\"].map(\"${:.2f}\".format)\n",
    "age_purchasing_df[\"Total Purchase Value\"]=age_purchasing_df[\"Total Purchase Value\"].map(\"${:.2f}\".format)\n",
    "age_purchasing_df[\"Avg Total Purchase per Person\"]=age_purchasing_df[\"Avg Total Purchase per Person\"].map(\"${:.2f}\".format)\n",
    "\n",
    "age_purchasing_df.index.name = \"Age Ranges\"\n",
    "\n",
    "age_purchasing_df"
   ]
  },
  {
   "cell_type": "markdown",
   "metadata": {},
   "source": [
    "## Top Spenders"
   ]
  },
  {
   "cell_type": "markdown",
   "metadata": {},
   "source": [
    "* Run basic calculations to obtain the results in the table below\n",
    "\n",
    "\n",
    "* Create a summary data frame to hold the results\n",
    "\n",
    "\n",
    "* Sort the total purchase value column in descending order\n",
    "\n",
    "\n",
    "* Optional: give the displayed data cleaner formatting\n",
    "\n",
    "\n",
    "* Display a preview of the summary data frame\n",
    "\n"
   ]
  },
  {
   "cell_type": "code",
   "execution_count": null,
   "metadata": {},
   "outputs": [],
   "source": [
    "# Create groupby to identify top spenders\n",
    "top_spenders = purchase_data.groupby(\"SN\")"
   ]
  },
  {
   "cell_type": "code",
   "execution_count": null,
   "metadata": {},
   "outputs": [],
   "source": [
    "# Calculations\n",
    "spender_purchases = top_spenders[\"Purchase ID\"].count()\n",
    "\n",
    "spender_avg_purchase_price = round(top_spenders[\"Price\"].mean(),2)\n",
    "\n",
    "spender_total_purchase_value = round(top_spenders[\"Price\"].sum(),2)"
   ]
  },
  {
   "cell_type": "code",
   "execution_count": null,
   "metadata": {},
   "outputs": [],
   "source": [
    "# Create dataframe, sort by average purchase price to show top 5 spenders and update formatting\n",
    "top_spenders_df = pd.DataFrame({\"Purchase Count\": spender_purchases,\n",
    "                               \"Average Purchase Price\": spender_avg_purchase_price,\n",
    "                               \"Total Purchase Value\": spender_total_purchase_value})\n",
    "\n",
    "sorted_top_spenders_df = top_spenders_df.sort_values([\"Total Purchase Value\"], ascending=False)\n",
    "\n",
    "sorted_top_spenders_df[\"Average Purchase Price\"]=sorted_top_spenders_df[\"Average Purchase Price\"].astype(float).map(\"${:.2f}\".format)\n",
    "sorted_top_spenders_df[\"Total Purchase Value\"]=sorted_top_spenders_df[\"Total Purchase Value\"].astype(float).map(\"${:.2f}\".format)\n",
    "\n",
    "sorted_top_spenders_df.head()"
   ]
  },
  {
   "cell_type": "markdown",
   "metadata": {},
   "source": [
    "## Most Popular Items"
   ]
  },
  {
   "cell_type": "markdown",
   "metadata": {},
   "source": [
    "* Retrieve the Item ID, Item Name, and Item Price columns\n",
    "\n",
    "\n",
    "* Group by Item ID and Item Name. Perform calculations to obtain purchase count, average item price, and total purchase value\n",
    "\n",
    "\n",
    "* Create a summary data frame to hold the results\n",
    "\n",
    "\n",
    "* Sort the purchase count column in descending order\n",
    "\n",
    "\n",
    "* Optional: give the displayed data cleaner formatting\n",
    "\n",
    "\n",
    "* Display a preview of the summary data frame\n",
    "\n"
   ]
  },
  {
   "cell_type": "code",
   "execution_count": null,
   "metadata": {},
   "outputs": [],
   "source": [
    "# Retrieve columns per directions into list\n",
    "popular_items_data = purchase_data[[\"Item ID\", \"Item Name\", \"Price\"]]\n",
    "\n",
    "# Create Groupby Item ID and Item Name\n",
    "popular_items = popular_items_data.groupby([\"Item ID\", \"Item Name\"])"
   ]
  },
  {
   "cell_type": "code",
   "execution_count": null,
   "metadata": {},
   "outputs": [],
   "source": [
    "# Calculations\n",
    "item_purchase_count = popular_items[\"Price\"].count()\n",
    "\n",
    "item_price = popular_items[\"Price\"].sum()\n",
    "\n",
    "item_purchase_value = item_price/item_purchase_count"
   ]
  },
  {
   "cell_type": "code",
   "execution_count": null,
   "metadata": {},
   "outputs": [],
   "source": [
    "# Create new dataframe, sort by purchase count to show top 5 items and update formatting\n",
    "popular_items_df=pd.DataFrame({\"Purchase Count\": item_purchase_count,\n",
    "                              \"Item Price\": item_purchase_value,\n",
    "                              \"Total Purchase Value\": item_price})\n",
    "\n",
    "sorted_popular_items_df = popular_items_df.sort_values([\"Purchase Count\"], ascending=False)\n",
    "\n",
    "sorted_popular_items_df[\"Item Price\"]=sorted_popular_items_df[\"Item Price\"].astype(float).map(\"${:.2f}\".format)\n",
    "sorted_popular_items_df[\"Total Purchase Value\"]=sorted_popular_items_df[\"Total Purchase Value\"].astype(float).map(\"${:.2f}\".format)\n",
    "\n",
    "sorted_popular_items_df.head()"
   ]
  },
  {
   "cell_type": "markdown",
   "metadata": {},
   "source": [
    "## Most Profitable Items"
   ]
  },
  {
   "cell_type": "markdown",
   "metadata": {},
   "source": [
    "* Sort the above table by total purchase value in descending order\n",
    "\n",
    "\n",
    "* Optional: give the displayed data cleaner formatting\n",
    "\n",
    "\n",
    "* Display a preview of the data frame\n",
    "\n"
   ]
  },
  {
   "cell_type": "code",
   "execution_count": null,
   "metadata": {
    "scrolled": false
   },
   "outputs": [],
   "source": [
    "#Create new dataframe, sort by total purchase value and update formatting to show top 5 most profitable items \n",
    "\n",
    "sorted_profitable_items_df = popular_items_df.sort_values([\"Total Purchase Value\"], ascending=False)\n",
    "\n",
    "sorted_profitable_items_df[\"Item Price\"] = sorted_profitable_items_df[\"Item Price\"].astype(float).map(\"${:.2f}\".format)\n",
    "sorted_profitable_items_df[\"Total Purchase Value\"] = sorted_profitable_items_df[\"Total Purchase Value\"].astype(float).map(\"${:.2f}\".format)\n",
    "\n",
    "sorted_profitable_items_df.head()"
   ]
  },
  {
   "cell_type": "markdown",
   "metadata": {},
   "source": [
    "## Observations"
   ]
  },
  {
   "cell_type": "markdown",
   "metadata": {},
   "source": [
    "* The majority player demographics were males between the ages of 20 and 24.\n",
    "\n",
    "* The Final Critic item was the most popular and profitable.\n",
    "\n",
    "* Although males were the majority gender of players, females on average spent the most per purchase."
   ]
  }
 ],
 "metadata": {
  "anaconda-cloud": {},
  "kernel_info": {
   "name": "python3"
  },
  "kernelspec": {
   "display_name": "Python 3",
   "language": "python",
   "name": "python3"
  },
  "language_info": {
   "codemirror_mode": {
    "name": "ipython",
    "version": 3
   },
   "file_extension": ".py",
   "mimetype": "text/x-python",
   "name": "python",
   "nbconvert_exporter": "python",
   "pygments_lexer": "ipython3",
   "version": "3.8.8"
  },
  "latex_envs": {
   "LaTeX_envs_menu_present": true,
   "autoclose": false,
   "autocomplete": true,
   "bibliofile": "biblio.bib",
   "cite_by": "apalike",
   "current_citInitial": 1,
   "eqLabelWithNumbers": true,
   "eqNumInitial": 1,
   "hotkeys": {
    "equation": "Ctrl-E",
    "itemize": "Ctrl-I"
   },
   "labels_anchors": false,
   "latex_user_defs": false,
   "report_style_numbering": false,
   "user_envs_cfg": false
  },
  "nteract": {
   "version": "0.2.0"
  }
 },
 "nbformat": 4,
 "nbformat_minor": 2
}
